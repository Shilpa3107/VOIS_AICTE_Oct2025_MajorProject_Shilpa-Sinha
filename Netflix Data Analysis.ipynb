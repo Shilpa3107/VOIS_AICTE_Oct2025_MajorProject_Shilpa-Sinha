{
 "cells": [
  {
   "cell_type": "code",
   "execution_count": null,
   "id": "5accdde1-31f0-4e67-b564-6e3b0f748897",
   "metadata": {},
   "outputs": [],
   "source": []
  }
 ],
 "metadata": {
  "kernelspec": {
   "display_name": "Python [conda env:base] *",
   "language": "python",
   "name": "conda-base-py"
  },
  "language_info": {
   "codemirror_mode": {
    "name": "ipython",
    "version": 3
   },
   "file_extension": ".py",
   "mimetype": "text/x-python",
   "name": "python",
   "nbconvert_exporter": "python",
   "pygments_lexer": "ipython3",
   "version": "3.9.21"
  }
 },
 "nbformat": 4,
 "nbformat_minor": 5
}
